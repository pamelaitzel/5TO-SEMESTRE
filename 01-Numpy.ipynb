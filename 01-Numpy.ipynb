{
 "cells": [
  {
   "cell_type": "markdown",
   "id": "fe2d81d5-09f3-4ec6-96ae-a9c9d242b3c9",
   "metadata": {},
   "source": [
    "# introduccion a Numpy"
   ]
  },
  {
   "cell_type": "markdown",
   "id": "06960bbf-2730-45e5-b482-fdc32db06d91",
   "metadata": {},
   "source": [
    "[Numpy](https://numpy.org/doc/stable/)  es una biblioteca fundamental para la computacion cientifica con python \n",
    "* proporciona arrays N-dimencionales\n",
    "* implementa funciones sofisticadas\n",
    "* proporciona herramientas para integrar c/c++ y fortran\n",
    "* proporciona mecanismos para facilitar la realizaacion de tareas relacionadas con algebra lineal o numeros aleatorios"
   ]
  },
  {
   "cell_type": "markdown",
   "id": "4689bbdf-efa1-4277-8a4c-e0d805acd1f2",
   "metadata": {},
   "source": [
    "## imports"
   ]
  },
  {
   "cell_type": "code",
   "execution_count": 1,
   "id": "76c25f8a-08bb-4835-83c9-e3c8ffdec51f",
   "metadata": {},
   "outputs": [],
   "source": [
    "import numpy as np"
   ]
  },
  {
   "cell_type": "markdown",
   "id": "fc89af89-3446-4a70-bad2-9dd6fd75dc00",
   "metadata": {},
   "source": [
    "## Arrays"
   ]
  },
  {
   "cell_type": "markdown",
   "id": "36e54beb-bc16-4282-9a1a-87bd9b8358a7",
   "metadata": {},
   "source": [
    "un **array** es una estructura de datos que consiste en una coleccion de elementos (valores o variables), cada uno identificado por almenos un indice o clave. un array se almacena de modo que la posicion de cada elemento se pueda calcular atraves de su tupla de indice mediante una formula matematica. el tipo mas simple es un array lineal, tambien llamado array unidimencional."
   ]
  },
  {
   "cell_type": "markdown",
   "id": "7c277aee-a15d-425b-8a75-8da65fe839bc",
   "metadata": {},
   "source": [
    "en numpy:\n",
    "* cada dimecion se denomina **axis**.\n",
    "* el numero de dimenciones se denomina **rank**.\n",
    "* la lista de dimenciones con su correspondiente longitud se denomina **shape**\n",
    "* el numero total de elementos que es la multiplicacion de la longitud de las dimenciones se denomina **size**."
   ]
  },
  {
   "cell_type": "code",
   "execution_count": 2,
   "id": "e41b3a97-3ada-4e15-b1d0-77e20e362519",
   "metadata": {},
   "outputs": [],
   "source": [
    "# Array cuyos valores son todos 0\n",
    "a = np.zeros((2,4))"
   ]
  },
  {
   "cell_type": "code",
   "execution_count": 3,
   "id": "4e8e3f40-d5f9-4836-a759-ca16cea53bc9",
   "metadata": {},
   "outputs": [
    {
     "data": {
      "text/plain": [
       "array([[0., 0., 0., 0.],\n",
       "       [0., 0., 0., 0.]])"
      ]
     },
     "execution_count": 3,
     "metadata": {},
     "output_type": "execute_result"
    }
   ],
   "source": [
    "a"
   ]
  },
  {
   "cell_type": "markdown",
   "id": "8bc17642-6c73-466a-bfb1-5c099fc4d249",
   "metadata": {},
   "source": [
    "_**a**_ es un array:\n",
    "* con dos **axis**, el primero de longitud 2 y el segundo de longitud 4.\n",
    "* con un **rank** igual a 2\n",
    "* con un **shape** igual (2, 4)\n",
    "* con un **size** igual a 8"
   ]
  },
  {
   "cell_type": "code",
   "execution_count": 4,
   "id": "6ab640df-41c2-4226-ab2b-98f6f189130d",
   "metadata": {},
   "outputs": [
    {
     "data": {
      "text/plain": [
       "(2, 4)"
      ]
     },
     "execution_count": 4,
     "metadata": {},
     "output_type": "execute_result"
    }
   ],
   "source": [
    "a.shape"
   ]
  },
  {
   "cell_type": "code",
   "execution_count": 5,
   "id": "3e32775a-9ea2-44b9-b60b-a44223f050f1",
   "metadata": {},
   "outputs": [
    {
     "data": {
      "text/plain": [
       "2"
      ]
     },
     "execution_count": 5,
     "metadata": {},
     "output_type": "execute_result"
    }
   ],
   "source": [
    "a.ndim"
   ]
  },
  {
   "cell_type": "code",
   "execution_count": 6,
   "id": "771461c3-5c8d-4af7-8616-1df136c38ffd",
   "metadata": {},
   "outputs": [
    {
     "data": {
      "text/plain": [
       "8"
      ]
     },
     "execution_count": 6,
     "metadata": {},
     "output_type": "execute_result"
    }
   ],
   "source": [
    "a.size"
   ]
  },
  {
   "cell_type": "markdown",
   "id": "6ea6ba5f-90d5-41db-bfa0-26d1f0928ebd",
   "metadata": {},
   "source": [
    "## creacion de Arrays"
   ]
  },
  {
   "cell_type": "code",
   "execution_count": 7,
   "id": "c63acfd6-c011-4166-bcf0-bc33afe11854",
   "metadata": {},
   "outputs": [
    {
     "data": {
      "text/plain": [
       "array([[[0., 0., 0., 0.],\n",
       "        [0., 0., 0., 0.],\n",
       "        [0., 0., 0., 0.]],\n",
       "\n",
       "       [[0., 0., 0., 0.],\n",
       "        [0., 0., 0., 0.],\n",
       "        [0., 0., 0., 0.]]])"
      ]
     },
     "execution_count": 7,
     "metadata": {},
     "output_type": "execute_result"
    }
   ],
   "source": [
    "# Array cuyos valores son todos 0\n",
    "np.zeros((2, 3, 4))"
   ]
  },
  {
   "cell_type": "code",
   "execution_count": 8,
   "id": "8e413f11-def8-4a22-a5d7-3cba76205057",
   "metadata": {},
   "outputs": [
    {
     "data": {
      "text/plain": [
       "array([[[1., 1., 1., 1.],\n",
       "        [1., 1., 1., 1.],\n",
       "        [1., 1., 1., 1.]],\n",
       "\n",
       "       [[1., 1., 1., 1.],\n",
       "        [1., 1., 1., 1.],\n",
       "        [1., 1., 1., 1.]]])"
      ]
     },
     "execution_count": 8,
     "metadata": {},
     "output_type": "execute_result"
    }
   ],
   "source": [
    "# Array cuyos valores son todos 1.\n",
    "np.ones((2, 3, 4))"
   ]
  },
  {
   "cell_type": "code",
   "execution_count": 9,
   "id": "04c855ae-e9e2-4c77-9e5e-eeccc3f911df",
   "metadata": {},
   "outputs": [
    {
     "data": {
      "text/plain": [
       "array([[[8, 8, 8, 8],\n",
       "        [8, 8, 8, 8],\n",
       "        [8, 8, 8, 8]],\n",
       "\n",
       "       [[8, 8, 8, 8],\n",
       "        [8, 8, 8, 8],\n",
       "        [8, 8, 8, 8]]])"
      ]
     },
     "execution_count": 9,
     "metadata": {},
     "output_type": "execute_result"
    }
   ],
   "source": [
    "# array cuyos valores son todos el valor indicado como segundo parametro de la funcion\n",
    "np.full((2, 3, 4), 8)"
   ]
  },
  {
   "cell_type": "code",
   "execution_count": 10,
   "id": "76462d47-a905-4a5c-954e-a7a9e3fab60c",
   "metadata": {},
   "outputs": [
    {
     "data": {
      "text/plain": [
       "array([[[0., 0., 0., 0., 0., 0., 0., 0., 0.],\n",
       "        [0., 0., 0., 0., 0., 0., 0., 0., 0.],\n",
       "        [0., 0., 0., 0., 0., 0., 0., 0., 0.]],\n",
       "\n",
       "       [[0., 0., 0., 0., 0., 0., 0., 0., 0.],\n",
       "        [0., 0., 0., 0., 0., 0., 0., 0., 0.],\n",
       "        [0., 0., 0., 0., 0., 0., 0., 0., 0.]]])"
      ]
     },
     "execution_count": 10,
     "metadata": {},
     "output_type": "execute_result"
    }
   ],
   "source": [
    "# el resultado de np. empty no es predecible \n",
    "# inicializa los valores del array con lo que haya en la memoria en ese momento\n",
    "np.empty((2, 3, 9))"
   ]
  },
  {
   "cell_type": "code",
   "execution_count": 11,
   "id": "b0ca9867-d6b4-44ea-acbe-84bba2d239ef",
   "metadata": {},
   "outputs": [
    {
     "data": {
      "text/plain": [
       "array([[1, 2, 3],\n",
       "       [4, 5, 6]])"
      ]
     },
     "execution_count": 11,
     "metadata": {},
     "output_type": "execute_result"
    }
   ],
   "source": [
    "# incializacion del array utilizando un array de python\n",
    "b= np.array([[1, 2, 3,], [4, 5, 6]])\n",
    "b"
   ]
  },
  {
   "cell_type": "code",
   "execution_count": 12,
   "id": "52b11491-f933-40f6-8d8e-8e116b181b77",
   "metadata": {},
   "outputs": [
    {
     "data": {
      "text/plain": [
       "(2, 3)"
      ]
     },
     "execution_count": 12,
     "metadata": {},
     "output_type": "execute_result"
    }
   ],
   "source": [
    "b.shape"
   ]
  },
  {
   "cell_type": "code",
   "execution_count": 13,
   "id": "3ab823c7-8f6f-4961-97fe-05674167dfb3",
   "metadata": {},
   "outputs": [
    {
     "name": "stdout",
     "output_type": "stream",
     "text": [
      "[0.         0.66666667 1.33333333 2.         2.66666667 3.33333333\n",
      " 4.         4.66666667 5.33333333 6.        ]\n"
     ]
    }
   ],
   "source": [
    "#creacion del array utilizando una funcion de rangos.\n",
    "# (minimo, maximo, numero de elementos del array)\n",
    "print(np.linspace(0, 6, 10))"
   ]
  },
  {
   "cell_type": "code",
   "execution_count": 14,
   "id": "553ed1be-3a75-4106-bb8b-5c829398019e",
   "metadata": {},
   "outputs": [
    {
     "data": {
      "text/plain": [
       "array([[[0.86311668, 0.29973203, 0.03865897, 0.0146626 ],\n",
       "        [0.77720819, 0.98518081, 0.68617964, 0.56349527],\n",
       "        [0.90785755, 0.56859302, 0.94282678, 0.20852907]],\n",
       "\n",
       "       [[0.18930735, 0.86166067, 0.04503312, 0.23412836],\n",
       "        [0.39504706, 0.77068744, 0.05302328, 0.55065296],\n",
       "        [0.29945304, 0.09362401, 0.86395269, 0.09956509]]])"
      ]
     },
     "execution_count": 14,
     "metadata": {},
     "output_type": "execute_result"
    }
   ],
   "source": [
    "# inicializar un array con valores aleatorios\n",
    "np.random.rand(2, 3, 4)"
   ]
  },
  {
   "cell_type": "code",
   "execution_count": 15,
   "id": "faea4edd-e957-427c-81a3-ba2d28aac3fb",
   "metadata": {},
   "outputs": [
    {
     "data": {
      "text/plain": [
       "array([[ 1.31031844, -0.3268822 ,  0.30726034, -0.11283023],\n",
       "       [-1.29695197, -0.49455022, -0.4580167 , -1.81945929]])"
      ]
     },
     "execution_count": 15,
     "metadata": {},
     "output_type": "execute_result"
    }
   ],
   "source": [
    "# incializar un array con valores aleatorios conforme a una distribucion normal.\n",
    "np.random.randn(2, 4)"
   ]
  },
  {
   "cell_type": "code",
   "execution_count": 16,
   "id": "dbd473b5-873e-4289-bd3f-7f08a0f70a6f",
   "metadata": {},
   "outputs": [
    {
     "data": {
      "image/png": "[encoded data removed]",
      "text/plain": [
       "<Figure size 640x480 with 1 Axes>"
      ]
     },
     "metadata": {},
     "output_type": "display_data"
    }
   ],
   "source": [
    "%matplotlib inline\n",
    "import matplotlib.pyplot as plt\n",
    "c = np.random.randn(100000)\n",
    "plt.hist(c, bins=300)\n",
    "plt.show()"
   ]
  },
  {
   "cell_type": "code",
   "execution_count": 17,
   "id": "945e7a2c-04f5-43c8-9fd6-7625c1fc2d1c",
   "metadata": {},
   "outputs": [
    {
     "data": {
      "text/plain": [
       "array([[ 0.,  2.,  4.,  6.,  8.],\n",
       "       [ 1.,  3.,  5.,  7.,  9.],\n",
       "       [ 2.,  4.,  6.,  8., 10.]])"
      ]
     },
     "execution_count": 17,
     "metadata": {},
     "output_type": "execute_result"
    }
   ],
   "source": [
    "# inicializar un array utilizando una funcion personaliz +ada.\n",
    "def func(x, y):\n",
    "    return x + 2 * y\n",
    "\n",
    "np.fromfunction(func, (3, 5))"
   ]
  },
  {
   "cell_type": "markdown",
   "id": "261f1505-f31c-4d21-b8b1-8fdef35c53c1",
   "metadata": {},
   "source": [
    "## acesso a los elementos de un array\n",
    "### array unidimencional"
   ]
  },
  {
   "cell_type": "code",
   "execution_count": 18,
   "id": "46a260c6-c54e-4720-989c-d44f0428c662",
   "metadata": {},
   "outputs": [
    {
     "name": "stdout",
     "output_type": "stream",
     "text": [
      "shape:  (6,)\n",
      "array_uni: [ 1  3  5  7  9 11]\n"
     ]
    }
   ],
   "source": [
    "# creacion de un array unidimencional.\n",
    "array_uni = np.array([1, 3, 5, 7, 9, 11])\n",
    "print(\"shape: \", array_uni.shape)\n",
    "print(\"array_uni:\", array_uni)"
   ]
  },
  {
   "cell_type": "code",
   "execution_count": 19,
   "id": "57fb8121-61b3-4d28-ac0e-354d8b00d818",
   "metadata": {},
   "outputs": [
    {
     "data": {
      "text/plain": [
       "np.int64(9)"
      ]
     },
     "execution_count": 19,
     "metadata": {},
     "output_type": "execute_result"
    }
   ],
   "source": [
    "# accediendo al quinto elemento del array.\n",
    "array_uni[4]"
   ]
  },
  {
   "cell_type": "code",
   "execution_count": 20,
   "id": "20de2044-1f88-4fbe-a47f-11c1406c1053",
   "metadata": {},
   "outputs": [
    {
     "data": {
      "text/plain": [
       "array([5, 7])"
      ]
     },
     "execution_count": 20,
     "metadata": {},
     "output_type": "execute_result"
    }
   ],
   "source": [
    "# accediendo al tercer y cuarto elemento del array\n",
    "array_uni[2:4]"
   ]
  },
  {
   "cell_type": "code",
   "execution_count": 21,
   "id": "5066ff82-bfbc-4482-afbc-2a56ccdc83bd",
   "metadata": {},
   "outputs": [
    {
     "data": {
      "text/plain": [
       "array([1, 7])"
      ]
     },
     "execution_count": 21,
     "metadata": {},
     "output_type": "execute_result"
    }
   ],
   "source": [
    "# acceder a los elementos 0, 3, 5 del array\n",
    "array_uni[0::3]"
   ]
  },
  {
   "cell_type": "markdown",
   "id": "8d39fc23-0430-4a15-9de3-1ba6da63fa5f",
   "metadata": {},
   "source": [
    "## Array multidiemcional"
   ]
  },
  {
   "cell_type": "code",
   "execution_count": 22,
   "id": "dfd7608b-f614-4e77-834c-ca4acd51b23a",
   "metadata": {},
   "outputs": [
    {
     "name": "stdout",
     "output_type": "stream",
     "text": [
      "shape:  (2, 4)\n",
      "array_multi: [[1 2 3 4]\n",
      " [5 6 7 8]]\n"
     ]
    }
   ],
   "source": [
    "# creacion de un array multidimensional\n",
    "array_multi = np.array([[1, 2, 3, 4], [5, 6, 7, 8]])\n",
    "array_uni = np.array([1, 3, 5, 7, 9, 11])\n",
    "print(\"shape: \", array_multi.shape)\n",
    "print(\"array_multi:\", array_multi)"
   ]
  },
  {
   "cell_type": "code",
   "execution_count": 23,
   "id": "29272c15-4173-42d1-bd4f-6007bc55e0c8",
   "metadata": {},
   "outputs": [
    {
     "data": {
      "text/plain": [
       "np.int64(4)"
      ]
     },
     "execution_count": 23,
     "metadata": {},
     "output_type": "execute_result"
    }
   ],
   "source": [
    "# accediendo al cuarto elemento del array\n",
    "array_multi[0, 3]"
   ]
  },
  {
   "cell_type": "code",
   "execution_count": 24,
   "id": "9c4cc4fb-472f-4b2d-a1bd-c0b4a7836f71",
   "metadata": {},
   "outputs": [
    {
     "data": {
      "text/plain": [
       "array([5, 6, 7, 8])"
      ]
     },
     "execution_count": 24,
     "metadata": {},
     "output_type": "execute_result"
    }
   ],
   "source": [
    "# accediendo a la segunda fila del array\n",
    "array_multi[1, :]"
   ]
  },
  {
   "cell_type": "code",
   "execution_count": 25,
   "id": "2c405040-af37-4dce-8efb-164f2915a24c",
   "metadata": {},
   "outputs": [
    {
     "data": {
      "text/plain": [
       "array([3, 7])"
      ]
     },
     "execution_count": 25,
     "metadata": {},
     "output_type": "execute_result"
    }
   ],
   "source": [
    "# accediendo al 3er elento de las dos primeras filas del array\n",
    "array_multi[0: 2, 2]"
   ]
  },
  {
   "cell_type": "markdown",
   "id": "3f49d3f1-7f54-411e-b081-8863e8e5867f",
   "metadata": {},
   "source": [
    " ## modificacion de un array"
   ]
  },
  {
   "cell_type": "code",
   "execution_count": 26,
   "id": "cb050bc0-afbe-4e67-8724-64a6350cd08c",
   "metadata": {},
   "outputs": [
    {
     "name": "stdout",
     "output_type": "stream",
     "text": [
      "shape:  (28,)\n",
      "array_multi: [ 0  1  2  3  4  5  6  7  8  9 10 11 12 13 14 15 16 17 18 19 20 21 22 23\n",
      " 24 25 26 27]\n"
     ]
    }
   ],
   "source": [
    "# creacion de un array unidimencional inicializado con el arrango de elementos 0-27\n",
    "array1 = np.arange(28)\n",
    "print(\"shape: \", array1.shape)\n",
    "print(\"array_multi:\", array1)"
   ]
  },
  {
   "cell_type": "code",
   "execution_count": 27,
   "id": "62717214-d9dc-4689-9860-b6d8c65d75a0",
   "metadata": {},
   "outputs": [
    {
     "name": "stdout",
     "output_type": "stream",
     "text": [
      "shape:  (7, 4)\n",
      "array_multi: \n",
      " [[ 0  1  2  3]\n",
      " [ 4  5  6  7]\n",
      " [ 8  9 10 11]\n",
      " [12 13 14 15]\n",
      " [16 17 18 19]\n",
      " [20 21 22 23]\n",
      " [24 25 26 27]]\n"
     ]
    }
   ],
   "source": [
    "# cambiar las dimeciones del array y longitudes \n",
    "array1.shape = (7,4)\n",
    "print(\"shape: \", array1.shape)\n",
    "print(\"array_multi: \\n\", array1)"
   ]
  },
  {
   "cell_type": "code",
   "execution_count": 28,
   "id": "d423a930-19f9-4e42-8070-ec0c6510c6ae",
   "metadata": {},
   "outputs": [
    {
     "name": "stdout",
     "output_type": "stream",
     "text": [
      "shape:  (4, 7)\n",
      "array_multi: \n",
      " [[ 0  1  2  3  4  5  6]\n",
      " [ 7  8  9 10 11 12 13]\n",
      " [14 15 16 17 18 19 20]\n",
      " [21 22 23 24 25 26 27]]\n"
     ]
    }
   ],
   "source": [
    "# el ejemplo anterior devuelve un nuevo array que apunta a los mismos datos\n",
    "# nota: las modificaciones en un array , modifican el otro array \n",
    "array2 = array1.reshape(4, 7)\n",
    "print(\"shape: \", array2.shape)\n",
    "print(\"array_multi: \\n\", array2)"
   ]
  },
  {
   "cell_type": "code",
   "execution_count": 29,
   "id": "0c11fcba-49be-40e3-b040-243be4201695",
   "metadata": {},
   "outputs": [
    {
     "name": "stdout",
     "output_type": "stream",
     "text": [
      "array 2:\n",
      " [[ 0  1  2 20  4  5  6]\n",
      " [ 7  8  9 10 11 12 13]\n",
      " [14 15 16 17 18 19 20]\n",
      " [21 22 23 24 25 26 27]]\n"
     ]
    }
   ],
   "source": [
    "# modificacion del array devuelto\n",
    "array2[0,3] = 20\n",
    "print(\"array 2:\\n\", array2)"
   ]
  },
  {
   "cell_type": "code",
   "execution_count": 30,
   "id": "71247b74-e789-4600-8258-5f48fbfb2f11",
   "metadata": {},
   "outputs": [
    {
     "name": "stdout",
     "output_type": "stream",
     "text": [
      "array 1:\n",
      " [[ 0  1  2 20]\n",
      " [ 4  5  6  7]\n",
      " [ 8  9 10 11]\n",
      " [12 13 14 15]\n",
      " [16 17 18 19]\n",
      " [20 21 22 23]\n",
      " [24 25 26 27]]\n"
     ]
    }
   ],
   "source": [
    "print(\"array 1:\\n\", array1)"
   ]
  },
  {
   "cell_type": "code",
   "execution_count": 31,
   "id": "9a435c5c-b6ac-4047-9e40-de036e652645",
   "metadata": {},
   "outputs": [
    {
     "name": "stdout",
     "output_type": "stream",
     "text": [
      "array 1:\n",
      " [ 0  1  2 20  4  5  6  7  8  9 10 11 12 13 14 15 16 17 18 19 20 21 22 23\n",
      " 24 25 26 27]\n"
     ]
    }
   ],
   "source": [
    "# devuelve el array a una sola dimension\n",
    "# nota: el nuevo array apunta a los mismos datos\n",
    "print(\"array 1:\\n\", array1.ravel())"
   ]
  },
  {
   "cell_type": "markdown",
   "id": "c2f6392c-7186-4291-b2f0-a8cf354db1e7",
   "metadata": {},
   "source": [
    "## operaciones aritmeticas con Arrays"
   ]
  },
  {
   "cell_type": "code",
   "execution_count": 32,
   "id": "2975aea8-70ef-4923-9ff4-fe0ce2f40afe",
   "metadata": {},
   "outputs": [
    {
     "name": "stdout",
     "output_type": "stream",
     "text": [
      "array 1:\n",
      " [ 2  4  6  8 10 12 14 16]\n",
      "array 2:\n",
      " [0 1 2 3 4 5 6 7]\n"
     ]
    }
   ],
   "source": [
    "# creacion de dos arrays unidimencionales.\n",
    "array1 = np.arange(2, 18, 2)\n",
    "array2 = np.arange(8)\n",
    "print(\"array 1:\\n\", array1)\n",
    "print(\"array 2:\\n\", array2)"
   ]
  },
  {
   "cell_type": "code",
   "execution_count": 33,
   "id": "3065a279-e112-4736-a00e-b20616412e6c",
   "metadata": {},
   "outputs": [
    {
     "name": "stdout",
     "output_type": "stream",
     "text": [
      "[ 2  5  8 11 14 17 20 23]\n"
     ]
    }
   ],
   "source": [
    "# suma\n",
    "print(array1 + array2)"
   ]
  },
  {
   "cell_type": "code",
   "execution_count": 34,
   "id": "7a4c4932-0d81-468c-a32b-25aa8fbc631b",
   "metadata": {},
   "outputs": [
    {
     "name": "stdout",
     "output_type": "stream",
     "text": [
      "[2 3 4 5 6 7 8 9]\n"
     ]
    }
   ],
   "source": [
    "# resta \n",
    "print(array1 - array2)"
   ]
  },
  {
   "cell_type": "code",
   "execution_count": 35,
   "id": "b79dad6d-41bc-4efa-85fd-2d8c296ac05e",
   "metadata": {},
   "outputs": [
    {
     "name": "stdout",
     "output_type": "stream",
     "text": [
      "[  0   4  12  24  40  60  84 112]\n"
     ]
    }
   ],
   "source": [
    "# multiplicacion \n",
    "# nota: no es una multiplicacion de matrices\n",
    "print(array1 * array2)\n"
   ]
  },
  {
   "cell_type": "markdown",
   "id": "991bd4a9-5a21-40f3-8343-b27d427a2707",
   "metadata": {},
   "source": [
    "## broadcasting\n",
    "si se aplican operaciones aritmeticas sobre arrays que no tienen la misma forma (shape) numpy aplica una propiedad que se denomina broadcasting"
   ]
  },
  {
   "cell_type": "code",
   "execution_count": 36,
   "id": "6aa5d22d-b936-422e-843e-e6aebfae3a86",
   "metadata": {},
   "outputs": [
    {
     "name": "stdout",
     "output_type": "stream",
     "text": [
      "shape:  (5,)\n",
      "array1: \n",
      " [0 1 2 3 4]\n",
      "shape:  (1,)\n",
      "array_2: [3]\n"
     ]
    }
   ],
   "source": [
    "# creacion de dos arrays unidimencionales\n",
    "array1 = np.arange(5)\n",
    "array2 = np.array ([3])\n",
    "print(\"shape: \", array1.shape)\n",
    "print(\"array1: \\n\", array1)\n",
    "print(\"shape: \", array2.shape)\n",
    "print(\"array_2:\", array2)"
   ]
  },
  {
   "cell_type": "code",
   "execution_count": 37,
   "id": "ef76cb52-03c6-4330-8568-97775d2373aa",
   "metadata": {},
   "outputs": [
    {
     "data": {
      "text/plain": [
       "array([3, 4, 5, 6, 7])"
      ]
     },
     "execution_count": 37,
     "metadata": {},
     "output_type": "execute_result"
    }
   ],
   "source": [
    "# suma de ambos arrays\n",
    "array1 + array2"
   ]
  },
  {
   "cell_type": "code",
   "execution_count": 38,
   "id": "be9a1865-4858-464a-85fb-4857d15007a3",
   "metadata": {},
   "outputs": [
    {
     "name": "stdout",
     "output_type": "stream",
     "text": [
      "shape:  (2, 3)\n",
      "array1: \n",
      " [[0 1 2]\n",
      " [3 4 5]]\n",
      "shape:  (3,)\n",
      "array_2: [ 6 10 14]\n"
     ]
    }
   ],
   "source": [
    "# creacion de dos arrays multidimencionales y unidimencional\n",
    "array1 = np.arange(6)\n",
    "array1.shape = (2, 3)\n",
    "array2 = np.arange(6, 18, 4)\n",
    "print(\"shape: \", array1.shape)\n",
    "print(\"array1: \\n\", array1)\n",
    "print(\"shape: \", array2.shape)\n",
    "print(\"array_2:\", array2)"
   ]
  },
  {
   "cell_type": "code",
   "execution_count": 39,
   "id": "90081969-2519-42c5-8d58-6c1175ab06c9",
   "metadata": {},
   "outputs": [
    {
     "data": {
      "text/plain": [
       "array([[ 6, 11, 16],\n",
       "       [ 9, 14, 19]])"
      ]
     },
     "execution_count": 39,
     "metadata": {},
     "output_type": "execute_result"
    }
   ],
   "source": [
    "# suma de ambos arrays \n",
    "array1 + array2"
   ]
  },
  {
   "cell_type": "markdown",
   "id": "8cf1ec83-8a83-4ace-a750-ac4425f7a1f2",
   "metadata": {},
   "source": [
    "## funciones estadisticas sobre arrays"
   ]
  },
  {
   "cell_type": "code",
   "execution_count": 40,
   "id": "9af502b3-0e42-447e-8bc5-fcb161edb49d",
   "metadata": {},
   "outputs": [
    {
     "name": "stdout",
     "output_type": "stream",
     "text": [
      "array 1: [ 1  3  5  7  9 11 13 15 17 19]\n"
     ]
    }
   ],
   "source": [
    "# creacion de un array unidimencional\n",
    "array1 = np.arange(1, 20, 2)\n",
    "print(\"array 1:\", array1)"
   ]
  },
  {
   "cell_type": "code",
   "execution_count": 41,
   "id": "3bbce463-f313-40bb-8d27-dac1040b59c2",
   "metadata": {},
   "outputs": [
    {
     "data": {
      "text/plain": [
       "np.float64(10.0)"
      ]
     },
     "execution_count": 41,
     "metadata": {},
     "output_type": "execute_result"
    }
   ],
   "source": [
    "# media de los elementos del array\n",
    "array1.mean()"
   ]
  },
  {
   "cell_type": "code",
   "execution_count": 42,
   "id": "e7e5f319-8a06-41bc-b218-fca47f525c6b",
   "metadata": {},
   "outputs": [
    {
     "data": {
      "text/plain": [
       "np.int64(100)"
      ]
     },
     "execution_count": 42,
     "metadata": {},
     "output_type": "execute_result"
    }
   ],
   "source": [
    "# suma de los elementos del array\n",
    "array1.sum()"
   ]
  },
  {
   "cell_type": "markdown",
   "id": "486021d5-c855-40a4-9f77-db9924b7678d",
   "metadata": {},
   "source": [
    "funciones universales eficientes proporcionales por numpy: **ufunc**"
   ]
  },
  {
   "cell_type": "code",
   "execution_count": 43,
   "id": "65c0d20b-8443-4dbf-9661-99c1887770dc",
   "metadata": {},
   "outputs": [
    {
     "data": {
      "text/plain": [
       "array([  1,   9,  25,  49,  81, 121, 169, 225, 289, 361])"
      ]
     },
     "execution_count": 43,
     "metadata": {},
     "output_type": "execute_result"
    }
   ],
   "source": [
    "# ccuadrado de los elentos del array\n",
    "np.square(array1)"
   ]
  },
  {
   "cell_type": "code",
   "execution_count": 44,
   "id": "6596aba9-2429-4ceb-b302-e0b93893fd30",
   "metadata": {},
   "outputs": [
    {
     "data": {
      "text/plain": [
       "array([1.        , 1.73205081, 2.23606798, 2.64575131, 3.        ,\n",
       "       3.31662479, 3.60555128, 3.87298335, 4.12310563, 4.35889894])"
      ]
     },
     "execution_count": 44,
     "metadata": {},
     "output_type": "execute_result"
    }
   ],
   "source": [
    "#raiz cuadrada de los elementos del array\n",
    "np.sqrt(array1)"
   ]
  },
  {
   "cell_type": "code",
   "execution_count": 45,
   "id": "a1787d2b-86f5-46fe-8193-e7aece2d4381",
   "metadata": {},
   "outputs": [
    {
     "data": {
      "text/plain": [
       "array([2.71828183e+00, 2.00855369e+01, 1.48413159e+02, 1.09663316e+03,\n",
       "       8.10308393e+03, 5.98741417e+04, 4.42413392e+05, 3.26901737e+06,\n",
       "       2.41549528e+07, 1.78482301e+08])"
      ]
     },
     "execution_count": 45,
     "metadata": {},
     "output_type": "execute_result"
    }
   ],
   "source": [
    "# esponencial de los elementos del array\n",
    "np.exp(array1)"
   ]
  },
  {
   "cell_type": "code",
   "execution_count": 46,
   "id": "46accf4a-69d8-45d1-9fea-ee7a04512888",
   "metadata": {},
   "outputs": [
    {
     "data": {
      "text/plain": [
       "array([0.        , 1.09861229, 1.60943791, 1.94591015, 2.19722458,\n",
       "       2.39789527, 2.56494936, 2.7080502 , 2.83321334, 2.94443898])"
      ]
     },
     "execution_count": 46,
     "metadata": {},
     "output_type": "execute_result"
    }
   ],
   "source": [
    "#log de los elementos del array\n",
    "np.log(array1)"
   ]
  },
  {
   "cell_type": "code",
   "execution_count": null,
   "id": "553a3a8d-0f26-4bea-b15a-22f6c1f7358a",
   "metadata": {},
   "outputs": [],
   "source": []
  }
 ],
 "metadata": {
  "kernelspec": {
   "display_name": "Python 3 (ipykernel)",
   "language": "python",
   "name": "python3"
  },
  "language_info": {
   "codemirror_mode": {
    "name": "ipython",
    "version": 3
   },
   "file_extension": ".py",
   "mimetype": "text/x-python",
   "name": "python",
   "nbconvert_exporter": "python",
   "pygments_lexer": "ipython3",
   "version": "3.9.19"
  }
 },
 "nbformat": 4,
 "nbformat_minor": 5
}
